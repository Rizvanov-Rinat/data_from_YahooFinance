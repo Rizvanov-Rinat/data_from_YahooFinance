{
 "cells": [
  {
   "cell_type": "code",
   "execution_count": null,
   "metadata": {
    "ExecuteTime": {
     "end_time": "2020-04-13T14:51:09.703495Z",
     "start_time": "2020-04-13T14:51:09.699508Z"
    }
   },
   "outputs": [],
   "source": [
    "##  import libraries\n",
    "\n",
    "import pandas as pd\n",
    "import numpy as np\n",
    "from yahooquery import Ticker\n",
    "import yfinance as yf\n",
    "import datetime as dt"
   ]
  },
  {
   "cell_type": "code",
   "execution_count": null,
   "metadata": {
    "ExecuteTime": {
     "end_time": "2020-04-13T14:51:16.768463Z",
     "start_time": "2020-04-13T14:51:16.463686Z"
    }
   },
   "outputs": [],
   "source": [
    "##  get tickers from file \n",
    "\n",
    "raw_data = pd.read_excel('tickers.xlsx') #  <-- loading file with tickers\n",
    "# raw_data = pd.read_excel('All Public comps with tickers.xlsx') #  <-- loading file with tickers\n",
    "tickers = raw_data['Public - Ticker (Yahoo)'][:100] #  <-- getting tickers column from file "
   ]
  },
  {
   "cell_type": "code",
   "execution_count": null,
   "metadata": {
    "ExecuteTime": {
     "end_time": "2020-04-13T14:51:17.589593Z",
     "start_time": "2020-04-13T14:51:17.583200Z"
    }
   },
   "outputs": [],
   "source": [
    "##  needed information\n",
    "\n",
    "summary_detail_keys = ['previousClose', 'marketCap', 'currency']\n",
    "financial_data_keys = ['totalRevenue', 'totalCash', 'totalDebt', 'ebitda', 'freeCashflow', 'operatingCashflow',\n",
    "                  'grossProfits', 'revenueGrowth']\n",
    "key_stats_keys = ['enterpriseValue', 'sharesOutstanding', 'floatShares', 'lastFiscalYearEnd', 'profitMargins']\n",
    "\n",
    "keys = summary_detail_keys + financial_data_keys + key_stats_keys + ['growthFromFeb']"
   ]
  },
  {
   "cell_type": "code",
   "execution_count": null,
   "metadata": {
    "ExecuteTime": {
     "end_time": "2020-04-13T14:52:40.643687Z",
     "start_time": "2020-04-13T14:51:18.048277Z"
    },
    "scrolled": true
   },
   "outputs": [],
   "source": [
    "## parsing\n",
    "    \n",
    "def to_dict(x):\n",
    "    if isinstance(x, dict):\n",
    "        return x\n",
    "    else:\n",
    "        return dict()\n",
    "    \n",
    "    \n",
    "def parse(tickers):\n",
    "    counter = 0\n",
    "    empty_row = pd.DataFrame({ key: [np.nan] for key in keys })\n",
    "    result = pd.DataFrame()\n",
    "    prices = []\n",
    "    for ticker in tickers:\n",
    "        \n",
    "        if ticker is np.nan:\n",
    "            result = result.append(empty_row, ignore_index = True)\n",
    "            continue\n",
    "            \n",
    "        try:\n",
    "            ticker_info = Ticker(ticker)\n",
    "        except TypeError:\n",
    "            result = result.append(empty_row, ignore_index = True)\n",
    "            continue\n",
    "            \n",
    "        summary_detail = to_dict(ticker_info.summary_detail.get(ticker))\n",
    "        financial_data = to_dict(ticker_info.financial_data.get(ticker))\n",
    "        key_stats = to_dict(ticker_info.key_stats.get(ticker))\n",
    "                    \n",
    "        row = dict()\n",
    "        row.update({ key: summary_detail.get(key) for key in summary_detail_keys })\n",
    "        row.update({ key: financial_data.get(key) for key in financial_data_keys })\n",
    "        row.update({ key: key_stats.get(key) for key in key_stats_keys })\n",
    "            \n",
    "        try:\n",
    "            price = yf.download(ticker, start=dt.date(2020,2,4), end=dt.date(2020,2,7)).Close[0]\n",
    "            row['growthFromFeb'] = row['previousClose'] / price - 1\n",
    "        except:\n",
    "            row['growthFromFeb'] = np.nan\n",
    "            \n",
    "        row_df =  pd.DataFrame(row, index=[0])\n",
    "        result = result.append(row_df)\n",
    "        counter += 1\n",
    "        if counter % 100 == 0:\n",
    "            print(f'{counter} tickers downloaded')\n",
    "    result.reset_index(drop=True, inplace=True)\n",
    "    return result\n",
    "     \n",
    "parsed_df = parse(tickers)"
   ]
  },
  {
   "cell_type": "code",
   "execution_count": null,
   "metadata": {
    "ExecuteTime": {
     "end_time": "2020-04-13T14:53:28.999347Z",
     "start_time": "2020-04-13T14:52:57.302226Z"
    }
   },
   "outputs": [],
   "source": [
    "def to_dollar():\n",
    "    not_dividing = ['previousClose', 'currency', 'lastFiscalYearEnd', 'revenueGrowth', 'profitMargins', 'growthFromFeb']\n",
    "    \n",
    "    def remove_cents(x):\n",
    "        try:\n",
    "            return float(x) / 100\n",
    "        except TypeError:\n",
    "            return x\n",
    "        \n",
    "    currencies = ['GBp', 'ZAc', 'ILA']\n",
    "    \n",
    "    for currency in currencies:\n",
    "        currency_data = parsed_df[parsed_df['currency'] == currency]\n",
    "        for column in currency_data.columns:\n",
    "            if column not in not_dividing:\n",
    "                currency_data[column] = currency_data[column].apply(remove_cents)\n",
    "            else:\n",
    "                currency_data[column] = currency_data[column]\n",
    "        parsed_df[parsed_df['currency'] == currency] = currency_data\n",
    "        \n",
    "to_dollar()"
   ]
  },
  {
   "cell_type": "code",
   "execution_count": null,
   "metadata": {
    "ExecuteTime": {
     "end_time": "2020-04-11T19:39:48.874258Z",
     "start_time": "2020-04-11T19:39:48.836265Z"
    }
   },
   "outputs": [],
   "source": [
    "## adding data to file\n",
    "\n",
    "def devide(x):\n",
    "    try:\n",
    "        return float(x) / 1000000\n",
    "    except TypeError:\n",
    "        return x\n",
    "    \n",
    "not_dividing = ['previousClose', 'currency', 'lastFiscalYearEnd', 'revenueGrowth', 'profitMargins', 'growthFromFeb']\n",
    "for column in parsed_df.columns:\n",
    "    if column not in not_dividing:\n",
    "        raw_data[column] = parsed_df[column].apply(devide)\n",
    "    else:\n",
    "        raw_data[column] = parsed_df[column]"
   ]
  },
  {
   "cell_type": "code",
   "execution_count": null,
   "metadata": {
    "ExecuteTime": {
     "end_time": "2020-04-11T19:39:55.060855Z",
     "start_time": "2020-04-11T19:39:53.645446Z"
    }
   },
   "outputs": [],
   "source": [
    "## Save result\n",
    "\n",
    "raw_data.to_excel('Comps_statistics.xlsx')"
   ]
  },
  {
   "cell_type": "code",
   "execution_count": null,
   "metadata": {
    "ExecuteTime": {
     "end_time": "2020-04-11T19:37:46.352149Z",
     "start_time": "2020-04-11T19:37:46.348122Z"
    }
   },
   "outputs": [],
   "source": [
    "# currencies = ['GBp', 'ZAc', 'ILA']\n",
    "# parsed_df[parsed_df['currency'] == 'ILA']"
   ]
  }
 ],
 "metadata": {
  "kernelspec": {
   "display_name": "Python 3",
   "language": "python",
   "name": "python3"
  },
  "language_info": {
   "codemirror_mode": {
    "name": "ipython",
    "version": 3
   },
   "file_extension": ".py",
   "mimetype": "text/x-python",
   "name": "python",
   "nbconvert_exporter": "python",
   "pygments_lexer": "ipython3",
   "version": "3.7.3"
  }
 },
 "nbformat": 4,
 "nbformat_minor": 2
}
